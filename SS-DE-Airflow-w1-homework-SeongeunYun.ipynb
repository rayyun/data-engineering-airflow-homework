{
 "cells": [
  {
   "cell_type": "markdown",
   "metadata": {
    "id": "u3gaYi07c-ZW"
   },
   "source": [
    "# Homework 1. name, gender 읽어오기 - ETL 버전의 load 함수에 들어갈 내용"
   ]
  },
  {
   "cell_type": "code",
   "execution_count": null,
   "metadata": {
    "id": "wv__35tIjKXW"
   },
   "outputs": [],
   "source": [
    "import requests\n",
    "\n",
    "def extract(url):\n",
    "  f = requests.get(url)\n",
    "  return f.text"
   ]
  },
  {
   "cell_type": "code",
   "execution_count": null,
   "metadata": {
    "id": "MWRWYP4pjyRg"
   },
   "outputs": [],
   "source": [
    "import csv\n",
    "\n",
    "def transform(data):\n",
    "  reader = csv.reader(data.strip().split('\\n'))\n",
    "  return reader"
   ]
  },
  {
   "cell_type": "code",
   "execution_count": null,
   "metadata": {
    "id": "--N_KXYylTQW"
   },
   "outputs": [],
   "source": [
    "import psycopg2\n",
    "\n",
    "# Redshift connection 함수\n",
    "def get_Redshift_connection():\n",
    "  host = \"learnde.cduaw970ssvt.ap-northeast-2.redshift.amazonaws.com\"\n",
    "  redshift_user = \"ID\"\n",
    "  redshift_pass = \"PW\"\n",
    "  port = 5439\n",
    "  dbname = \"dev\"\n",
    "  conn = psycopg2.connect(\"dbname={dbname} user={user} host={host} password={password} port={port}\".format(\n",
    "      dbname=dbname,\n",
    "      user=redshift_user,\n",
    "      password=redshift_pass,\n",
    "      host=host,\n",
    "      port=port\n",
    "  ))\n",
    "  conn.set_session(autocommit=True)\n",
    "  return conn.cursor()\n",
    "\n",
    "\"\"\"\n",
    "CREATE TABLE raw_data.name_gender (\n",
    "  name varchar(64),\n",
    "  gender varchar(16)\n",
    ")\n",
    "\"\"\"\n"
   ]
  },
  {
   "cell_type": "markdown",
   "metadata": {
    "id": "R4awMaV3cJHy"
   },
   "source": [
    "## Homework 1-1. INSERT INTO SQL 완성하기"
   ]
  },
  {
   "cell_type": "code",
   "execution_count": null,
   "metadata": {
    "id": "59rWPeYZcB4a"
   },
   "outputs": [],
   "source": [
    "def load(csv_reader):\n",
    "  cur = get_Redshift_connection()\n",
    "  # cur.execute(sql)를 사용\n",
    "  for name, gender in csv_reader:\n",
    "    print(name, gender)\n",
    "    sql = \"INSERT INTO raw_data.name_gender (name, gender) VALUES (%s, %s)\"\n",
    "    cur.execute(sql, [name, gender])"
   ]
  },
  {
   "cell_type": "markdown",
   "metadata": {
    "id": "xgWHTcebvR7f"
   },
   "source": [
    "Extract 부터 함수를 하나씩 실행"
   ]
  },
  {
   "cell_type": "code",
   "execution_count": null,
   "metadata": {
    "id": "b2YaDE0QvPbV"
   },
   "outputs": [],
   "source": [
    "link = \"https://s3-geospatial.s3-us-west-2.amazonaws.com/name_gender.csv\"\n",
    "\n",
    "data = extract(link)\n",
    "csv_reader = transform(data)\n",
    "load(csv_reader)"
   ]
  },
  {
   "cell_type": "markdown",
   "metadata": {
    "id": "jrNDZATicbo6"
   },
   "source": [
    "## Homework 1-2. 만일 이 테이블의 업데이트 방식이 기존 테이블의 내용을 지우고 새로 업데이트 하는 방식이라면(Full-Refresh) 어떻게 하는 것이 좋을까?"
   ]
  },
  {
   "cell_type": "code",
   "execution_count": null,
   "metadata": {
    "id": "PzIbgsJ8ygMW"
   },
   "outputs": [],
   "source": [
    "# 이건 잘 모르겠습니다. 최대한 유추해서 써봅니다.\n",
    "def get_Redshift_connection():\n",
    "  host = \"learnde.cduaw970ssvt.ap-northeast-2.redshift.amazonaws.com\"\n",
    "  redshift_user = \"ID\"\n",
    "  redshift_pass = \"PW\"\n",
    "  port = 5439\n",
    "  dbname = \"dev\"\n",
    "  conn = psycopg2.connect(\"dbname={dbname} user={user} host={host} password={password} port={port}\".format(\n",
    "      dbname=dbname,\n",
    "      user=redshift_user,\n",
    "      password=redshift_pass,\n",
    "      host=host,\n",
    "      port=port\n",
    "  ))\n",
    "\n",
    "  return conn\n",
    "\n",
    "\n",
    "def load(csv_reader):\n",
    "  conn = get_Redshift_connection()\n",
    "  conn.autocommit = False\n",
    "\n",
    "  # cur.execute(sql)를 사용\n",
    "  for name, gender in csv_reader:\n",
    "    print(name, gender)\n",
    "    try:\n",
    "      sql = \"DELETE FROM raw_data.name_gender WHERE name = %s AND gender = %s\"\n",
    "      cur.execute(sql, [name, gender])\n",
    "      sql = \"INSERT INTO raw_data.name_gender (name, gender) VALUES (%s, %s)\"\n",
    "      cur.execute(sql, [name, gender])\n",
    "      conn.commit()\n",
    "    except:\n",
    "      print(\"Failed to do transaction!\")\n",
    "      conn.rollback()\n",
    "\n",
    "  if conn.is_connected():\n",
    "    cursor.close()\n",
    "    conn.close()\n",
    "    "
   ]
  },
  {
   "cell_type": "markdown",
   "metadata": {
    "id": "P-_7fomJxiQB"
   },
   "source": [
    "ETL 실행하기"
   ]
  },
  {
   "cell_type": "code",
   "execution_count": null,
   "metadata": {
    "id": "rru4JA5WxlqU"
   },
   "outputs": [],
   "source": [
    "link = \"https://s3-geospatial.s3-us-west-2.amazonaws.com/name_gender.csv\"\n",
    "\n",
    "data = extract(link)\n",
    "csv_reader = transform(data)\n",
    "load(csv_reader)"
   ]
  },
  {
   "cell_type": "markdown",
   "metadata": {
    "id": "cs0vyZ7nt0-Y"
   },
   "source": [
    "<br><br>\n",
    "<hr>"
   ]
  },
  {
   "cell_type": "markdown",
   "metadata": {
    "id": "QNzpJCOadZ7u"
   },
   "source": [
    "# Homework 2. Open Weathermap API : 서울 7일 평균 / 최소 / 최대 온도 읽어오기"
   ]
  },
  {
   "cell_type": "markdown",
   "metadata": {
    "id": "A7cjMKJ0ww52"
   },
   "source": [
    "API 연결해서 JSON data 가져오기"
   ]
  },
  {
   "cell_type": "code",
   "execution_count": null,
   "metadata": {
    "colab": {
     "base_uri": "https://localhost:8080/"
    },
    "id": "kDLqIeLMdrao",
    "outputId": "3a82c9b0-8406-409a-cfe8-668c3ce65272"
   },
   "outputs": [
    {
     "name": "stdout",
     "output_type": "stream",
     "text": [
      "[{'dt': 1634439600, 'sunrise': 1634420499, 'sunset': 1634460779, 'moonrise': 1634456160, 'moonset': 1634406960, 'moon_phase': 0.39, 'temp': {'day': 282.23, 'min': 275.65, 'max': 283.2, 'night': 280.5, 'eve': 282.19, 'morn': 275.69}, 'feels_like': {'day': 280.2, 'night': 279.65, 'eve': 279.96, 'morn': 271.8}, 'pressure': 1028, 'humidity': 23, 'dew_point': 263.39, 'wind_speed': 6.53, 'wind_deg': 329, 'wind_gust': 11.6, 'weather': [{'id': 800, 'main': 'Clear', 'description': 'clear sky', 'icon': '01d'}], 'clouds': 0, 'pop': 0, 'uvi': 4.01}, {'dt': 1634526000, 'sunrise': 1634506957, 'sunset': 1634547098, 'moonrise': 1634544120, 'moonset': 1634497200, 'moon_phase': 0.42, 'temp': {'day': 286.77, 'min': 279.45, 'max': 287.53, 'night': 285.36, 'eve': 286.1, 'morn': 279.45}, 'feels_like': {'day': 284.97, 'night': 284.46, 'eve': 285.04, 'morn': 279.45}, 'pressure': 1025, 'humidity': 30, 'dew_point': 269.59, 'wind_speed': 2.3, 'wind_deg': 240, 'wind_gust': 3.69, 'weather': [{'id': 500, 'main': 'Rain', 'description': 'light rain', 'icon': '10d'}], 'clouds': 22, 'pop': 0.37, 'rain': 0.36, 'uvi': 2.47}, {'dt': 1634612400, 'sunrise': 1634593414, 'sunset': 1634633418, 'moonrise': 1634632020, 'moonset': 1634587320, 'moon_phase': 0.45, 'temp': {'day': 286.46, 'min': 281.81, 'max': 287.01, 'night': 281.81, 'eve': 283.95, 'morn': 283.72}, 'feels_like': {'day': 285.18, 'night': 281.01, 'eve': 282.29, 'morn': 283.08}, 'pressure': 1019, 'humidity': 51, 'dew_point': 276.47, 'wind_speed': 6.42, 'wind_deg': 315, 'wind_gust': 8.72, 'weather': [{'id': 500, 'main': 'Rain', 'description': 'light rain', 'icon': '10d'}], 'clouds': 99, 'pop': 0.58, 'rain': 2.33, 'uvi': 3.3}, {'dt': 1634698800, 'sunrise': 1634679873, 'sunset': 1634719738, 'moonrise': 1634719920, 'moonset': 1634677320, 'moon_phase': 0.48, 'temp': {'day': 285.29, 'min': 280.4, 'max': 286.48, 'night': 283.02, 'eve': 284.32, 'morn': 280.4}, 'feels_like': {'day': 283.55, 'night': 282.66, 'eve': 282.25, 'morn': 280.4}, 'pressure': 1022, 'humidity': 38, 'dew_point': 271.24, 'wind_speed': 3.3, 'wind_deg': 289, 'wind_gust': 3.77, 'weather': [{'id': 800, 'main': 'Clear', 'description': 'clear sky', 'icon': '01d'}], 'clouds': 5, 'pop': 0, 'uvi': 3.62}, {'dt': 1634785200, 'sunrise': 1634766331, 'sunset': 1634806060, 'moonrise': 1634807760, 'moonset': 1634767260, 'moon_phase': 0.5, 'temp': {'day': 287.18, 'min': 280.57, 'max': 288.33, 'night': 285.35, 'eve': 286.61, 'morn': 280.57}, 'feels_like': {'day': 285.34, 'night': 283.85, 'eve': 285.08, 'morn': 280.57}, 'pressure': 1022, 'humidity': 27, 'dew_point': 268.48, 'wind_speed': 3.34, 'wind_deg': 296, 'wind_gust': 4.5, 'weather': [{'id': 800, 'main': 'Clear', 'description': 'clear sky', 'icon': '01d'}], 'clouds': 2, 'pop': 0, 'uvi': 3.67}, {'dt': 1634871600, 'sunrise': 1634852790, 'sunset': 1634892382, 'moonrise': 1634895840, 'moonset': 1634857260, 'moon_phase': 0.55, 'temp': {'day': 288.04, 'min': 282.24, 'max': 289.28, 'night': 285.91, 'eve': 287.55, 'morn': 282.24}, 'feels_like': {'day': 286.37, 'night': 284.23, 'eve': 285.83, 'morn': 282.24}, 'pressure': 1024, 'humidity': 30, 'dew_point': 270.4, 'wind_speed': 3, 'wind_deg': 332, 'wind_gust': 3.68, 'weather': [{'id': 800, 'main': 'Clear', 'description': 'clear sky', 'icon': '01d'}], 'clouds': 0, 'pop': 0, 'uvi': 4}, {'dt': 1634958000, 'sunrise': 1634939250, 'sunset': 1634978706, 'moonrise': 1634984100, 'moonset': 1634947260, 'moon_phase': 0.58, 'temp': {'day': 289.1, 'min': 282.33, 'max': 290.58, 'night': 287.04, 'eve': 289.06, 'morn': 282.33}, 'feels_like': {'day': 287.51, 'night': 285.48, 'eve': 287.36, 'morn': 282.33}, 'pressure': 1027, 'humidity': 29, 'dew_point': 271.15, 'wind_speed': 1.69, 'wind_deg': 310, 'wind_gust': 1.92, 'weather': [{'id': 800, 'main': 'Clear', 'description': 'clear sky', 'icon': '01d'}], 'clouds': 0, 'pop': 0, 'uvi': 4}, {'dt': 1635044400, 'sunrise': 1635025710, 'sunset': 1635065031, 'moonrise': 1635072600, 'moonset': 1635037200, 'moon_phase': 0.61, 'temp': {'day': 289.69, 'min': 284, 'max': 291.34, 'night': 288.63, 'eve': 290.04, 'morn': 284}, 'feels_like': {'day': 288.29, 'night': 287.3, 'eve': 288.75, 'morn': 282.34}, 'pressure': 1026, 'humidity': 34, 'dew_point': 273.83, 'wind_speed': 1.68, 'wind_deg': 15, 'wind_gust': 2.98, 'weather': [{'id': 804, 'main': 'Clouds', 'description': 'overcast clouds', 'icon': '04d'}], 'clouds': 100, 'pop': 0, 'uvi': 4}]\n"
     ]
    }
   ],
   "source": [
    "import requests\n",
    "from datetime import datetime\n",
    "\n",
    "API_KEY = \"your_api_key\"\n",
    "\n",
    "# latitude and longitude of Seoul, Korea\n",
    "SEOUL_LAT = \"37.5665\"\n",
    "SEOUL_LONG = \"126.9780\"\n",
    "\n",
    "params = {\n",
    "    \"lat\" : SEOUL_LAT,\n",
    "    \"lon\" : SEOUL_LONG,\n",
    "    \"appid\" : API_KEY\n",
    "}\n",
    "\n",
    "response = requests.get(url=\"https://api.openweathermap.org/data/2.5/onecall\", params=params)\n",
    "response.raise_for_status()\n",
    "data = response.json()\n",
    "daily = data['daily']\n",
    "\n",
    "print(daily)"
   ]
  },
  {
   "cell_type": "markdown",
   "metadata": {
    "id": "giaeHjXTxC-v"
   },
   "source": [
    "서울 - 7일 (내일부터 일주일간) 평균 / 최소 / 최대 온도"
   ]
  },
  {
   "cell_type": "code",
   "execution_count": null,
   "metadata": {
    "colab": {
     "base_uri": "https://localhost:8080/"
    },
    "id": "8uVRm49Owj_7",
    "outputId": "fcb8fd65-dd5e-4ee3-d46f-e457e8498c81",
    "scrolled": true
   },
   "outputs": [
    {
     "name": "stdout",
     "output_type": "stream",
     "text": [
      "Date, Avg_temp, Min_temp, Max_temp\n",
      "2021-10-18, 284.11, 279.45, 287.53\n",
      "2021-10-19, 284.13, 281.81, 287.01\n",
      "2021-10-20, 283.32, 280.4, 286.48\n",
      "2021-10-21, 284.77, 280.57, 288.33\n",
      "2021-10-22, 285.88, 282.24, 289.28\n",
      "2021-10-23, 286.74, 282.33, 290.58\n",
      "2021-10-24, 287.95, 284, 291.34\n"
     ]
    }
   ],
   "source": [
    "print(\"Date, Avg_temp, Min_temp, Max_temp\")\n",
    "\n",
    "for day in daily[1:]:\n",
    "  date = datetime.fromtimestamp(day[\"dt\"]).strftime('%Y-%m-%d')\n",
    "  avg_temp = round(sum(day['temp'].values()) / len(day['temp']), 2)\n",
    "  min_temp = day['temp']['min']\n",
    "  max_temp = day['temp']['max']\n",
    "\n",
    "  print(f\"{date}, {avg_temp}, {min_temp}, {max_temp}\")"
   ]
  },
  {
   "cell_type": "code",
   "execution_count": null,
   "metadata": {
    "id": "1Q37Y-U2wqv7"
   },
   "outputs": [],
   "source": []
  }
 ],
 "metadata": {
  "colab": {
   "name": "Homework-SS-DE-Airflow-1주차-Seongeun Yun.ipynb",
   "provenance": []
  },
  "kernelspec": {
   "display_name": "Python 3",
   "language": "python",
   "name": "python3"
  },
  "language_info": {
   "codemirror_mode": {
    "name": "ipython",
    "version": 3
   },
   "file_extension": ".py",
   "mimetype": "text/x-python",
   "name": "python",
   "nbconvert_exporter": "python",
   "pygments_lexer": "ipython3",
   "version": "3.8.5"
  }
 },
 "nbformat": 4,
 "nbformat_minor": 1
}
